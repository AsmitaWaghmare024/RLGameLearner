{
 "cells": [
  {
   "cell_type": "code",
   "execution_count": 7,
   "id": "b7dc2a2a",
   "metadata": {},
   "outputs": [],
   "source": [
    "def pretty_print(layout):\n",
    "    from math import log2\n",
    "    def parse_color(cell_value):\n",
    "        if cell_value>0:\n",
    "            colors = [\"#EEE4DA\", \"#ECE0CA\", \"#F2B179\", \"#F59565\", \"#F57C5F\", \"#F65D3B\", \"#EDCE71\", \"#EDCC63\", \"#EDC850\", \"#EDC53F\", \"#EEC22E\", \"#3E3933\"]\n",
    "            return colors[int(log2(cell_value))-1]\n",
    "        else:\n",
    "            return \"#CDC0B4\"\n",
    "\n",
    "    def cell_block(cell_value):\n",
    "        return '''\n",
    "        <td style=font-size:{}px;background-color:#BBADA0;text-align:center;width:100%>\n",
    "            <div style=color:#776E65;background-color:{};width:60px;height:60px;text-align:center><strong>{}</strong>\n",
    "            </div>\n",
    "        </td>'''.format('14', parse_color(cell_value), cell_value if cell_value>0 else '')\n",
    "    return '''\n",
    "            <div style=background-color:#BBADA0;width:300px;height:300px>\n",
    "            <table style=width:100%;height:100%>\n",
    "              <tr>\n",
    "                {}\n",
    "                </tr>\n",
    "              <tr>\n",
    "              {}\n",
    "              </tr>\n",
    "              <tr>\n",
    "              {}\n",
    "              </tr>\n",
    "              <tr>\n",
    "              {}\n",
    "              </tr>\n",
    "            </table>\n",
    "            </div>\n",
    "            '''.format('\\n'.join([cell_block(val) for val in layout[0,:]]),\n",
    "                      '\\n'.join([cell_block(val) for val in layout[1,:]]),\n",
    "                       '\\n'.join([cell_block(val) for val in layout[2,:]]),\n",
    "                       '\\n'.join([cell_block(val) for val in layout[3,:]]))"
   ]
  },
  {
   "cell_type": "code",
   "execution_count": 8,
   "id": "b0901d56",
   "metadata": {},
   "outputs": [
    {
     "ename": "NameError",
     "evalue": "name 'np' is not defined",
     "output_type": "error",
     "traceback": [
      "\u001b[1;31m---------------------------------------------------------------------------\u001b[0m",
      "\u001b[1;31mNameError\u001b[0m                                 Traceback (most recent call last)",
      "Input \u001b[1;32mIn [8]\u001b[0m, in \u001b[0;36m<cell line: 1>\u001b[1;34m()\u001b[0m\n\u001b[1;32m----> 1\u001b[0m HTML(pretty_print(\u001b[43mnp\u001b[49m\u001b[38;5;241m.\u001b[39marray([[ \u001b[38;5;241m0\u001b[39m,  \u001b[38;5;241m0\u001b[39m,  \u001b[38;5;241m0\u001b[39m,  \u001b[38;5;241m0\u001b[39m],\n\u001b[0;32m      2\u001b[0m          [ \u001b[38;5;241m2\u001b[39m,  \u001b[38;5;241m0\u001b[39m,  \u001b[38;5;241m0\u001b[39m,  \u001b[38;5;241m2\u001b[39m],\n\u001b[0;32m      3\u001b[0m          [ \u001b[38;5;241m2\u001b[39m,  \u001b[38;5;241m0\u001b[39m,  \u001b[38;5;241m8\u001b[39m,  \u001b[38;5;241m4\u001b[39m],\n\u001b[0;32m      4\u001b[0m          [ \u001b[38;5;241m4\u001b[39m, \u001b[38;5;241m64\u001b[39m, \u001b[38;5;241m16\u001b[39m,  \u001b[38;5;241m4\u001b[39m]])))\n",
      "\u001b[1;31mNameError\u001b[0m: name 'np' is not defined"
     ]
    }
   ],
   "source": [
    "HTML(pretty_print(np.array([[ 0,  0,  0,  0],\n",
    "         [ 2,  0,  0,  2],\n",
    "         [ 2,  0,  8,  4],\n",
    "         [ 4, 64, 16,  4]])))"
   ]
  },
  {
   "cell_type": "code",
   "execution_count": 9,
   "id": "07de877b",
   "metadata": {},
   "outputs": [
    {
     "ename": "NameError",
     "evalue": "name 'np' is not defined",
     "output_type": "error",
     "traceback": [
      "\u001b[1;31m---------------------------------------------------------------------------\u001b[0m",
      "\u001b[1;31mNameError\u001b[0m                                 Traceback (most recent call last)",
      "Input \u001b[1;32mIn [9]\u001b[0m, in \u001b[0;36m<cell line: 1>\u001b[1;34m()\u001b[0m\n\u001b[1;32m----> 1\u001b[0m \u001b[43mnp\u001b[49m\u001b[38;5;241m.\u001b[39mzeros((\u001b[38;5;241m4\u001b[39m,\u001b[38;5;241m4\u001b[39m), dtype\u001b[38;5;241m=\u001b[39mnp\u001b[38;5;241m.\u001b[39mint)\n",
      "\u001b[1;31mNameError\u001b[0m: name 'np' is not defined"
     ]
    }
   ],
   "source": [
    "np.zeros((4,4), dtype=np.int)"
   ]
  },
  {
   "cell_type": "code",
   "execution_count": 6,
   "id": "7a7357bb",
   "metadata": {},
   "outputs": [
    {
     "ename": "NameError",
     "evalue": "name 'np' is not defined",
     "output_type": "error",
     "traceback": [
      "\u001b[1;31m---------------------------------------------------------------------------\u001b[0m",
      "\u001b[1;31mNameError\u001b[0m                                 Traceback (most recent call last)",
      "Input \u001b[1;32mIn [6]\u001b[0m, in \u001b[0;36m<cell line: 1>\u001b[1;34m()\u001b[0m\n\u001b[1;32m----> 1\u001b[0m \u001b[43mnp\u001b[49m\u001b[38;5;241m.\u001b[39marray([[ \u001b[38;5;241m0\u001b[39m,  \u001b[38;5;241m0\u001b[39m,  \u001b[38;5;241m0\u001b[39m,  \u001b[38;5;241m0\u001b[39m],\n\u001b[0;32m      2\u001b[0m          [ \u001b[38;5;241m2\u001b[39m,  \u001b[38;5;241m0\u001b[39m,  \u001b[38;5;241m0\u001b[39m,  \u001b[38;5;241m2\u001b[39m],\n\u001b[0;32m      3\u001b[0m          [ \u001b[38;5;241m2\u001b[39m,  \u001b[38;5;241m0\u001b[39m,  \u001b[38;5;241m8\u001b[39m,  \u001b[38;5;241m4\u001b[39m],\n\u001b[0;32m      4\u001b[0m          [ \u001b[38;5;241m4\u001b[39m, \u001b[38;5;241m64\u001b[39m, \u001b[38;5;241m16\u001b[39m,  \u001b[38;5;241m4\u001b[39m]])\n",
      "\u001b[1;31mNameError\u001b[0m: name 'np' is not defined"
     ]
    }
   ],
   "source": [
    "np.array([[ 0,  0,  0,  0],\n",
    "         [ 2,  0,  0,  2],\n",
    "         [ 2,  0,  8,  4],\n",
    "         [ 4, 64, 16,  4]])"
   ]
  },
  {
   "cell_type": "code",
   "execution_count": null,
   "id": "096a6473",
   "metadata": {},
   "outputs": [],
   "source": []
  }
 ],
 "metadata": {
  "kernelspec": {
   "display_name": "Python 3 (ipykernel)",
   "language": "python",
   "name": "python3"
  },
  "language_info": {
   "codemirror_mode": {
    "name": "ipython",
    "version": 3
   },
   "file_extension": ".py",
   "mimetype": "text/x-python",
   "name": "python",
   "nbconvert_exporter": "python",
   "pygments_lexer": "ipython3",
   "version": "3.10.2"
  }
 },
 "nbformat": 4,
 "nbformat_minor": 5
}
