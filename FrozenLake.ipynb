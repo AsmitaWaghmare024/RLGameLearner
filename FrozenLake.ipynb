{
 "cells": [
  {
   "cell_type": "markdown",
   "id": "b519fcfe",
   "metadata": {},
   "source": [
    "# Libraries needed"
   ]
  },
  {
   "cell_type": "code",
   "execution_count": 4,
   "id": "f8630ac1",
   "metadata": {},
   "outputs": [],
   "source": [
    "import gym\n",
    "import numpy as np\n",
    "import random\n",
    "import time\n",
    "from IPython.display import clear_output"
   ]
  },
  {
   "cell_type": "markdown",
   "id": "56349389",
   "metadata": {},
   "source": [
    "# Environment"
   ]
  },
  {
   "cell_type": "code",
   "execution_count": 17,
   "id": "a4a98f8c",
   "metadata": {},
   "outputs": [],
   "source": [
    "env = gym.make('FrozenLake-v1')"
   ]
  },
  {
   "cell_type": "markdown",
   "id": "abcb9421",
   "metadata": {},
   "source": [
    "# Environment variables"
   ]
  },
  {
   "cell_type": "code",
   "execution_count": 9,
   "id": "c405814a",
   "metadata": {},
   "outputs": [],
   "source": [
    "num_episodes = 10000\n",
    "max_steps_per_episode = 100\n",
    "\n",
    "learning_rate = 0.1\n",
    "discount_rate = 0.99\n",
    "\n",
    "exploration_rate = 1\n",
    "exploration_decay_rate = 0.01\n",
    "max_exploration_rate = 1\n",
    "min_exploration_rate = 0.01"
   ]
  },
  {
   "cell_type": "markdown",
   "id": "e907fe8d",
   "metadata": {},
   "source": [
    "# Creating Q table"
   ]
  },
  {
   "cell_type": "code",
   "execution_count": 10,
   "id": "6dbe1fa9",
   "metadata": {},
   "outputs": [],
   "source": [
    "action_space_size = env.action_space.n\n",
    "state_space_size = env.observation_space.n\n",
    "\n",
    "\n",
    "q_table = np.zeros((state_space_size,action_space_size))"
   ]
  },
  {
   "cell_type": "markdown",
   "id": "414f514e",
   "metadata": {},
   "source": [
    "#  Values in Q table"
   ]
  },
  {
   "cell_type": "code",
   "execution_count": 11,
   "id": "0e20138d",
   "metadata": {
    "scrolled": true
   },
   "outputs": [
    {
     "name": "stdout",
     "output_type": "stream",
     "text": [
      "[[0. 0. 0. 0.]\n",
      " [0. 0. 0. 0.]\n",
      " [0. 0. 0. 0.]\n",
      " [0. 0. 0. 0.]\n",
      " [0. 0. 0. 0.]\n",
      " [0. 0. 0. 0.]\n",
      " [0. 0. 0. 0.]\n",
      " [0. 0. 0. 0.]\n",
      " [0. 0. 0. 0.]\n",
      " [0. 0. 0. 0.]\n",
      " [0. 0. 0. 0.]\n",
      " [0. 0. 0. 0.]\n",
      " [0. 0. 0. 0.]\n",
      " [0. 0. 0. 0.]\n",
      " [0. 0. 0. 0.]\n",
      " [0. 0. 0. 0.]]\n",
      "Shape of Q table: (16, 4)\n"
     ]
    }
   ],
   "source": [
    "print(q_table)\n",
    "print('Shape of Q table:',q_table.shape)"
   ]
  },
  {
   "cell_type": "markdown",
   "id": "a2ea4636",
   "metadata": {},
   "source": [
    "# Used to observe the rewards of each episode later"
   ]
  },
  {
   "cell_type": "code",
   "execution_count": 12,
   "id": "d11f3b35",
   "metadata": {},
   "outputs": [],
   "source": [
    "rewards_all_episodes = []"
   ]
  },
  {
   "cell_type": "markdown",
   "id": "202f9a0b",
   "metadata": {},
   "source": [
    "Q- Learning Algo"
   ]
  },
  {
   "cell_type": "markdown",
   "id": "90fe072d",
   "metadata": {},
   "source": [
    "# Q-learning"
   ]
  },
  {
   "cell_type": "code",
   "execution_count": 13,
   "id": "62229938",
   "metadata": {},
   "outputs": [
    {
     "ename": "ValueError",
     "evalue": "too many values to unpack (expected 4)",
     "output_type": "error",
     "traceback": [
      "\u001b[1;31m---------------------------------------------------------------------------\u001b[0m",
      "\u001b[1;31mValueError\u001b[0m                                Traceback (most recent call last)",
      "Input \u001b[1;32mIn [13]\u001b[0m, in \u001b[0;36m<cell line: 1>\u001b[1;34m()\u001b[0m\n\u001b[0;32m     11\u001b[0m     action \u001b[38;5;241m=\u001b[39m env\u001b[38;5;241m.\u001b[39maction_space\u001b[38;5;241m.\u001b[39msample()\n\u001b[0;32m     13\u001b[0m \u001b[38;5;66;03m#  Taking action\u001b[39;00m\n\u001b[1;32m---> 14\u001b[0m new_state, reward, done, info \u001b[38;5;241m=\u001b[39m env\u001b[38;5;241m.\u001b[39mstep(action)\n\u001b[0;32m     16\u001b[0m \u001b[38;5;66;03m# Update Q-table for Q(s,a)\u001b[39;00m\n\u001b[0;32m     17\u001b[0m q_table[state, action] \u001b[38;5;241m=\u001b[39m q_table[state, action] \u001b[38;5;241m*\u001b[39m (\u001b[38;5;241m1\u001b[39m \u001b[38;5;241m-\u001b[39m learning_rate) \u001b[38;5;241m+\u001b[39m \\\n\u001b[0;32m     18\u001b[0m learning_rate \u001b[38;5;241m*\u001b[39m (reward \u001b[38;5;241m+\u001b[39m discount_rate \u001b[38;5;241m*\u001b[39m np\u001b[38;5;241m.\u001b[39mmax(q_table[new_state, :]))\n",
      "\u001b[1;31mValueError\u001b[0m: too many values to unpack (expected 4)"
     ]
    }
   ],
   "source": [
    "for episode in range(num_episodes):\n",
    "    state = env.reset()\n",
    "    done = False\n",
    "    reward_current_episode = 0\n",
    "    \n",
    "    for step in range(max_steps_per_episode):\n",
    "        exploration_threshold_rate = random.uniform(0,1)\n",
    "        if exploration_threshold_rate > exploration_rate:\n",
    "            action = np.argmax(q_table[state,:])\n",
    "        else:\n",
    "            action = env.action_space.sample()\n",
    "            \n",
    "        #  Taking action\n",
    "        new_state, reward, done, info = env.step(action)\n",
    "        \n",
    "        # Update Q-table for Q(s,a)\n",
    "        q_table[state, action] = q_table[state, action] * (1 - learning_rate) + \\\n",
    "        learning_rate * (reward + discount_rate * np.max(q_table[new_state, :]))\n",
    "        \n",
    "        # Setting new state\n",
    "        state = new_state\n",
    "        \n",
    "        # Reward added\n",
    "        reward_current_episode += reward\n",
    "        \n",
    "        if done == True:\n",
    "            break\n",
    "        \n",
    "    # Exploration rate decay\n",
    "    exploration_rate = min_exploration_rate + \\\n",
    "    (max_exploration_rate - min_exploration_rate) * np.exp(-exploration_decay_rate*episode)\n",
    "    \n",
    "    # Adding rewards\n",
    "    rewards_all_episodes.append(reward_current_episode)"
   ]
  },
  {
   "cell_type": "code",
   "execution_count": 15,
   "id": "834139c5",
   "metadata": {},
   "outputs": [
    {
     "data": {
      "text/plain": [
       "0"
      ]
     },
     "execution_count": 15,
     "metadata": {},
     "output_type": "execute_result"
    }
   ],
   "source": [
    "sum(rewards_all_episodes)"
   ]
  },
  {
   "cell_type": "markdown",
   "id": "91b8bd9c",
   "metadata": {},
   "source": [
    "# Calculate and print the average reward per thousand episodes"
   ]
  },
  {
   "cell_type": "code",
   "execution_count": 60,
   "id": "e0dcc82d",
   "metadata": {},
   "outputs": [
    {
     "name": "stdout",
     "output_type": "stream",
     "text": [
      "********Average reward per thousand episodes********\n",
      "\n",
      "148.0\n",
      "1000 :  0.1480000000000001\n",
      "374.0\n",
      "2000 :  0.3740000000000003\n",
      "461.0\n",
      "3000 :  0.46100000000000035\n",
      "611.0\n",
      "4000 :  0.6110000000000004\n",
      "685.0\n",
      "5000 :  0.6850000000000005\n",
      "661.0\n",
      "6000 :  0.6610000000000005\n",
      "686.0\n",
      "7000 :  0.6860000000000005\n",
      "672.0\n",
      "8000 :  0.6720000000000005\n",
      "673.0\n",
      "9000 :  0.6730000000000005\n",
      "692.0\n",
      "10000 :  0.6920000000000005\n"
     ]
    }
   ],
   "source": [
    "rewards_per_thosand_episodes = np.split(np.array(rewards_all_episodes),num_episodes/1000)\n",
    "count = 1000\n",
    "\n",
    "print(\"********Average reward per thousand episodes********\\n\")\n",
    "for r in rewards_per_thosand_episodes:\n",
    "    print(sum(r))\n",
    "    print(count, \": \", str(sum(r/1000)))\n",
    "    count += 1000"
   ]
  },
  {
   "cell_type": "code",
   "execution_count": null,
   "id": "4cc467a9",
   "metadata": {},
   "outputs": [],
   "source": [
    "#printing Q-table"
   ]
  },
  {
   "cell_type": "code",
   "execution_count": 41,
   "id": "f16cd28b",
   "metadata": {},
   "outputs": [
    {
     "name": "stdout",
     "output_type": "stream",
     "text": [
      "*******************Printing Q-table*********************\n",
      "[[0.49078225 0.48306048 0.48041237 0.48111699]\n",
      " [0.04597387 0.11992721 0.08159627 0.41024931]\n",
      " [0.34445548 0.11192129 0.18892832 0.18017268]\n",
      " [0.16366031 0.0114866  0.01605195 0.00592224]\n",
      " [0.50873226 0.37036186 0.38418876 0.34374653]\n",
      " [0.         0.         0.         0.        ]\n",
      " [0.25677036 0.09052331 0.19151453 0.07884768]\n",
      " [0.         0.         0.         0.        ]\n",
      " [0.28965285 0.34925899 0.51417273 0.52971535]\n",
      " [0.49508282 0.54471131 0.36145508 0.30401291]\n",
      " [0.38946241 0.39023528 0.36064053 0.19682267]\n",
      " [0.         0.         0.         0.        ]\n",
      " [0.         0.         0.         0.        ]\n",
      " [0.43833609 0.62038084 0.66553858 0.48457965]\n",
      " [0.7222739  0.75733151 0.69874904 0.72719256]\n",
      " [0.         0.         0.         0.        ]]\n"
     ]
    }
   ],
   "source": [
    "print('*******************Printing Q-table*********************')\n",
    "print(q_table)"
   ]
  },
  {
   "cell_type": "markdown",
   "id": "d7cf3248",
   "metadata": {},
   "source": [
    "# Watch the agent play"
   ]
  },
  {
   "cell_type": "code",
   "execution_count": 3,
   "id": "b2eb89e6",
   "metadata": {},
   "outputs": [
    {
     "ename": "NameError",
     "evalue": "name 'env' is not defined",
     "output_type": "error",
     "traceback": [
      "\u001b[1;31m---------------------------------------------------------------------------\u001b[0m",
      "\u001b[1;31mNameError\u001b[0m                                 Traceback (most recent call last)",
      "Input \u001b[1;32mIn [3]\u001b[0m, in \u001b[0;36m<cell line: 2>\u001b[1;34m()\u001b[0m\n\u001b[0;32m      1\u001b[0m all_episode_actions \u001b[38;5;241m=\u001b[39m []\n\u001b[0;32m      2\u001b[0m \u001b[38;5;28;01mfor\u001b[39;00m episode \u001b[38;5;129;01min\u001b[39;00m \u001b[38;5;28mrange\u001b[39m(\u001b[38;5;241m3\u001b[39m):\n\u001b[1;32m----> 3\u001b[0m     state \u001b[38;5;241m=\u001b[39m \u001b[43menv\u001b[49m\u001b[38;5;241m.\u001b[39mreset()\n\u001b[0;32m      4\u001b[0m     done \u001b[38;5;241m=\u001b[39m \u001b[38;5;28;01mFalse\u001b[39;00m\n\u001b[0;32m      5\u001b[0m     \u001b[38;5;28mprint\u001b[39m(\u001b[38;5;124m'\u001b[39m\u001b[38;5;124m********Starting episode \u001b[39m\u001b[38;5;124m'\u001b[39m, episode, \u001b[38;5;124m'\u001b[39m\u001b[38;5;124m ********\u001b[39m\u001b[38;5;124m'\u001b[39m)\n",
      "\u001b[1;31mNameError\u001b[0m: name 'env' is not defined"
     ]
    }
   ],
   "source": [
    "all_episode_actions = []\n",
    "for episode in range(3):\n",
    "    state = env.reset()\n",
    "    done = False\n",
    "    print('********Starting episode ', episode, ' ********')\n",
    "    time.sleep(1)\n",
    "    \n",
    "    current_episode_actions = []  # Initialize list to store actions for the current episode\n",
    "    \n",
    "    for step in range(max_steps_per_episode):\n",
    "        clear_output(wait=True)\n",
    "        env.render()\n",
    "        time.sleep(0.3)\n",
    "       \n",
    "        action = np.argmax(q_table[state,:])\n",
    "        current_episode_actions.append(action)  # Append action to current episode actions\n",
    "        \n",
    "        new_state, reward, done, info = env.step(action)\n",
    "        \n",
    "        if done:\n",
    "            if reward == 1:\n",
    "                print('Agent reached the goal and won the episode.', episode)\n",
    "                time.sleep(1)\n",
    "            else:\n",
    "                print('Agent stepped in a hole and lost episode.', episode)\n",
    "                time.sleep(1)\n",
    "            clear_output(wait=True)\n",
    "            break\n",
    "        state = new_state\n",
    "    \n",
    "    all_episode_actions.append(current_episode_actions)  # Append list of actions for current episode to all episodes\n",
    "\n",
    "env.close()       "
   ]
  },
  {
   "cell_type": "code",
   "execution_count": 62,
   "id": "0a7d009c",
   "metadata": {},
   "outputs": [
    {
     "data": {
      "text/plain": [
       "(1, 0.0, False, {'prob': 0.3333333333333333})"
      ]
     },
     "execution_count": 62,
     "metadata": {},
     "output_type": "execute_result"
    }
   ],
   "source": [
    "env.reset()\n",
    "env.step(1)"
   ]
  },
  {
   "cell_type": "code",
   "execution_count": 65,
   "id": "d992a649",
   "metadata": {},
   "outputs": [
    {
     "name": "stdout",
     "output_type": "stream",
     "text": [
      "[[0, 0, 0, 0, 0, 0, 0, 0, 0, 0, 0, 0, 0, 0, 0, 3, 0, 3, 3, 3, 0, 3, 1, 0, 1, 1, 2, 1, 0, 1, 0, 0, 0, 0, 0, 0], [0, 0, 0, 0, 0, 3, 0, 3, 0, 0, 0, 0, 0, 0, 0, 0, 0, 0, 0, 0, 0, 0, 3, 0, 3, 3, 0, 0, 3, 0, 3, 1, 2, 1, 3, 0, 0, 0, 0, 0, 0, 0, 0, 0, 0, 0, 0, 0, 0, 0, 0, 0, 0, 0, 0, 0, 0, 0, 0, 0, 0, 0, 3, 0, 3, 3, 1, 2, 1], [0, 0, 0, 0, 0, 0, 3, 3, 0, 0, 0, 0, 0, 0, 0, 0, 0, 0, 0, 0, 0, 0, 3, 0, 0, 0, 0, 0, 0, 3, 1, 3, 0, 0, 0, 3, 1, 3, 1, 0, 0, 0, 1]]\n"
     ]
    }
   ],
   "source": [
    "print(all_episode_actions)\n"
   ]
  },
  {
   "cell_type": "code",
   "execution_count": null,
   "id": "b2010ac0",
   "metadata": {},
   "outputs": [],
   "source": []
  }
 ],
 "metadata": {
  "kernelspec": {
   "display_name": "Python 3 (ipykernel)",
   "language": "python",
   "name": "python3"
  },
  "language_info": {
   "codemirror_mode": {
    "name": "ipython",
    "version": 3
   },
   "file_extension": ".py",
   "mimetype": "text/x-python",
   "name": "python",
   "nbconvert_exporter": "python",
   "pygments_lexer": "ipython3",
   "version": "3.10.2"
  }
 },
 "nbformat": 4,
 "nbformat_minor": 5
}
